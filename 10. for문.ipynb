{
 "cells": [
  {
   "cell_type": "markdown",
   "metadata": {},
   "source": [
    "# range ()\n",
    "range(시작숫자, 끝숫자, 증가값)"
   ]
  },
  {
   "cell_type": "code",
   "execution_count": 1,
   "metadata": {},
   "outputs": [
    {
     "data": {
      "text/plain": [
       "[1, 2, 3, 4, 5, 6, 7, 8, 9, 10]"
      ]
     },
     "execution_count": 1,
     "metadata": {},
     "output_type": "execute_result"
    }
   ],
   "source": [
    "list(range(1, 11)) #list를 써야 출력됨 (for문은 자체적으로 알기 때문에 list 불필요)"
   ]
  },
  {
   "cell_type": "code",
   "execution_count": 2,
   "metadata": {},
   "outputs": [
    {
     "data": {
      "text/plain": [
       "[0, 2, 4, 6, 8, 10]"
      ]
     },
     "execution_count": 2,
     "metadata": {},
     "output_type": "execute_result"
    }
   ],
   "source": [
    "list(range(0, 11, 2))"
   ]
  },
  {
   "cell_type": "code",
   "execution_count": 4,
   "metadata": {},
   "outputs": [
    {
     "data": {
      "text/plain": [
       "[10, 8, 6, 4, 2]"
      ]
     },
     "execution_count": 4,
     "metadata": {},
     "output_type": "execute_result"
    }
   ],
   "source": [
    "list(range(10, 0, -2))"
   ]
  },
  {
   "cell_type": "code",
   "execution_count": 5,
   "metadata": {},
   "outputs": [
    {
     "data": {
      "text/plain": [
       "[]"
      ]
     },
     "execution_count": 5,
     "metadata": {},
     "output_type": "execute_result"
    }
   ],
   "source": [
    "list(range(0, 10, -2))"
   ]
  },
  {
   "cell_type": "markdown",
   "metadata": {},
   "source": [
    "# for문"
   ]
  },
  {
   "cell_type": "code",
   "execution_count": 7,
   "metadata": {},
   "outputs": [
    {
     "name": "stdout",
     "output_type": "stream",
     "text": [
      "1\n",
      "2\n",
      "3\n",
      "4\n",
      "5\n",
      "6\n",
      "7\n",
      "8\n",
      "9\n",
      "10\n"
     ]
    }
   ],
   "source": [
    "for i in range(1, 11) :\n",
    "    print (i)"
   ]
  },
  {
   "cell_type": "code",
   "execution_count": 9,
   "metadata": {},
   "outputs": [
    {
     "name": "stdout",
     "output_type": "stream",
     "text": [
      "0\n",
      "1\n",
      "2\n",
      "3\n",
      "4\n"
     ]
    }
   ],
   "source": [
    "for i in range(5) : #출발은 0부터\n",
    "    print (i)"
   ]
  },
  {
   "cell_type": "code",
   "execution_count": 33,
   "metadata": {},
   "outputs": [
    {
     "name": "stdout",
     "output_type": "stream",
     "text": [
      " 1 : 1.00000000\n",
      " 2 : 4.00000000\n",
      " 3 : 9.00000000\n",
      " 4 : 16.00000000\n",
      " 5 : 25.00000000\n",
      " 6 : 36.00000000\n",
      " 7 : 49.00000000\n",
      " 8 : 64.00000000\n",
      " 9 : 81.00000000\n",
      "10 : 100.00000000\n"
     ]
    }
   ],
   "source": [
    "# 1에서 10까지의 제곱근을 출력하기\n",
    "\n",
    "for i in range(1, 11) :\n",
    "    print(\"%2d : %0.8f\"%(i,(i**2)))"
   ]
  },
  {
   "cell_type": "code",
   "execution_count": 27,
   "metadata": {},
   "outputs": [
    {
     "name": "stdout",
     "output_type": "stream",
     "text": [
      "0  1  2  3  4  "
     ]
    }
   ],
   "source": [
    "for i in range(5) :\n",
    "    print (i, end =\"  \")"
   ]
  },
  {
   "cell_type": "code",
   "execution_count": 34,
   "metadata": {},
   "outputs": [
    {
     "name": "stdout",
     "output_type": "stream",
     "text": [
      "\n",
      "2 4 6 8 10 12 14 16 18 \n",
      "3 6 9 12 15 18 21 24 27 \n",
      "4 8 12 16 20 24 28 32 36 \n",
      "5 10 15 20 25 30 35 40 45 \n",
      "6 12 18 24 30 36 42 48 54 \n",
      "7 14 21 28 35 42 49 56 63 \n",
      "8 16 24 32 40 48 56 64 72 \n",
      "9 18 27 36 45 54 63 72 81 "
     ]
    }
   ],
   "source": [
    "# 구구단 결과만 출력하기\n",
    "for i in range (2, 10) :\n",
    "    print (\"\")\n",
    "    for x in range (1, 10) :\n",
    "        print (i * x , end = \" \")"
   ]
  },
  {
   "cell_type": "markdown",
   "metadata": {},
   "source": [
    "# for문에 list 사용하기"
   ]
  },
  {
   "cell_type": "code",
   "execution_count": 35,
   "metadata": {},
   "outputs": [
    {
     "name": "stdout",
     "output_type": "stream",
     "text": [
      "one\n",
      "two\n",
      "three\n"
     ]
    }
   ],
   "source": [
    "test_list = ['one', 'two', 'three']\n",
    "\n",
    "for i in test_list:\n",
    "    print(i)"
   ]
  },
  {
   "cell_type": "markdown",
   "metadata": {},
   "source": [
    "### for문에 Tuple 사용하기"
   ]
  },
  {
   "cell_type": "code",
   "execution_count": 40,
   "metadata": {},
   "outputs": [
    {
     "name": "stdout",
     "output_type": "stream",
     "text": [
      "1 : 2\n",
      "3 : 4\n",
      "5 : 6\n",
      "3\n",
      "7\n",
      "11\n",
      "21\n"
     ]
    }
   ],
   "source": [
    "# 리스트에 튜플을 함께 사용한 경우\n",
    "var = [(1,2),(3,4),(5,6)]\n",
    "\n",
    "for first, last in var:\n",
    "    print(first, \":\", last)\n",
    "\n",
    "for first, last in var:\n",
    "    print(first+last)\n",
    "    \n",
    "sum = 0\n",
    "for first, last in var:\n",
    "    sum = sum + first +last\n",
    "\n",
    "print (sum)"
   ]
  },
  {
   "cell_type": "markdown",
   "metadata": {},
   "source": [
    "총 5명의 학생이 시험을 보았는데 시험 점수가 60점을 넘으면 합격이고, 아니면 불합격이다.  \n",
    "합격, 불합격 결과 보여주기"
   ]
  },
  {
   "cell_type": "code",
   "execution_count": 49,
   "metadata": {},
   "outputs": [
    {
     "name": "stdout",
     "output_type": "stream",
     "text": [
      "1의 학생은 합격 입니다.\n",
      "2의 학생은 불합격 입니다.\n",
      "3의 학생은 합격 입니다.\n",
      "4의 학생은 불합격 입니다.\n",
      "5의 학생은 합격 입니다.\n"
     ]
    }
   ],
   "source": [
    "scores = [90, 25, 67, 45, 80]\n",
    "\n",
    "for number in range(len(scores)) :\n",
    "    if scores[number] >= 60 :\n",
    "        x = '합격'\n",
    "    else :\n",
    "        x = '불합격'\n",
    "    \n",
    "    print(\"%d의 학생은 %s 입니다.\"%(number+1, x))"
   ]
  },
  {
   "cell_type": "code",
   "execution_count": 78,
   "metadata": {},
   "outputs": [
    {
     "name": "stdout",
     "output_type": "stream",
     "text": [
      "1의 학생은 합격 입니다.\n",
      "2의 학생은 불합격 입니다.\n",
      "3의 학생은 합격 입니다.\n",
      "4의 학생은 불합격 입니다.\n",
      "5의 학생은 합격 입니다.\n"
     ]
    }
   ],
   "source": [
    "scores = [90, 25, 67, 45, 80]\n",
    "\n",
    "student= 0\n",
    "for score in scores:\n",
    "    student = student+1\n",
    "    if score >= 60:\n",
    "        x = '합격'\n",
    "    else :\n",
    "        x = '불합격' \n",
    "    print(\"%d의 학생은 %s 입니다.\"%(student, x))"
   ]
  },
  {
   "cell_type": "code",
   "execution_count": 75,
   "metadata": {},
   "outputs": [
    {
     "name": "stdout",
     "output_type": "stream",
     "text": [
      "1의 학생은 점수가 90점 이므로 합격 입니다.\n",
      "2의 학생은 점수가 25점 이므로 불합격 입니다.\n",
      "3의 학생은 점수가 67점 이므로 합격 입니다.\n",
      "4의 학생은 점수가 45점 이므로 불합격 입니다.\n",
      "5의 학생은 점수가 80점 이므로 합격 입니다.\n"
     ]
    }
   ],
   "source": [
    "# 학생번호와 점수를 같이 보여주면서 합격여부 출력하기\n",
    "\n",
    "scores = [90, 25, 67, 45, 80]\n",
    "\n",
    "student= 0\n",
    "for score in scores:\n",
    "    student = student+1\n",
    "    if score >= 60:\n",
    "        x = '합격'\n",
    "    else :\n",
    "        x = '불합격' \n",
    "    print(\"%d의 학생은 점수가 %s점 이므로 %s 입니다.\"%(student, score, x))"
   ]
  },
  {
   "cell_type": "code",
   "execution_count": 76,
   "metadata": {},
   "outputs": [
    {
     "name": "stdout",
     "output_type": "stream",
     "text": [
      "1의 학생은 점수가 90점 이므로 합격 입니다.\n",
      "2의 학생은 점수가 25점 이어서 불합격 입니다.\n",
      "3의 학생은 점수가 67점 이므로 합격 입니다.\n",
      "4의 학생은 점수가 45점 이어서 불합격 입니다.\n",
      "5의 학생은 점수가 80점 이므로 합격 입니다.\n"
     ]
    }
   ],
   "source": [
    "# 학생번호와 점수를 같이 보여주면서 합격여부 출력하기\n",
    "\n",
    "scores = [90, 25, 67, 45, 80]\n",
    "\n",
    "student= 0\n",
    "for score in scores:\n",
    "    student = student+1\n",
    "    if score >= 60:\n",
    "        print(\"%d의 학생은 점수가 %s점 이므로 합격 입니다.\"%(student, score))\n",
    "    else :\n",
    "        print(\"%d의 학생은 점수가 %s점 이어서 불합격 입니다.\"%(student, score))"
   ]
  },
  {
   "cell_type": "code",
   "execution_count": null,
   "metadata": {},
   "outputs": [],
   "source": []
  }
 ],
 "metadata": {
  "kernelspec": {
   "display_name": "Python 3",
   "language": "python",
   "name": "python3"
  },
  "language_info": {
   "codemirror_mode": {
    "name": "ipython",
    "version": 3
   },
   "file_extension": ".py",
   "mimetype": "text/x-python",
   "name": "python",
   "nbconvert_exporter": "python",
   "pygments_lexer": "ipython3",
   "version": "3.8.5"
  }
 },
 "nbformat": 4,
 "nbformat_minor": 4
}
