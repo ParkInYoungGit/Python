{
 "cells": [
  {
   "cell_type": "code",
   "execution_count": null,
   "metadata": {},
   "outputs": [],
   "source": [
    "if 조건 :\n",
    "    문장1\n",
    "    문장2\n",
    "-------------\n",
    "if 조건 :\n",
    "    문장1\n",
    "else:\n",
    "    문장2\n",
    "-------------\n",
    "if 조건 :\n",
    "    문장1\n",
    "elif 조건 :\n",
    "    문장2\n",
    "else :\n",
    "    문장"
   ]
  },
  {
   "cell_type": "code",
   "execution_count": 28,
   "metadata": {},
   "outputs": [],
   "source": [
    "# 난수 불러오기\n",
    "from random import randint"
   ]
  },
  {
   "cell_type": "code",
   "execution_count": 41,
   "metadata": {},
   "outputs": [
    {
     "data": {
      "text/plain": [
       "62"
      ]
     },
     "execution_count": 41,
     "metadata": {},
     "output_type": "execute_result"
    }
   ],
   "source": [
    "randint(1, 100)"
   ]
  },
  {
   "cell_type": "code",
   "execution_count": 42,
   "metadata": {},
   "outputs": [
    {
     "name": "stdout",
     "output_type": "stream",
     "text": [
      "------ end ------\n"
     ]
    }
   ],
   "source": [
    "x = randint(1, 100)\n",
    "\n",
    "if x > 50 :\n",
    "    print(\"x is greater than 50\")\n",
    "\n",
    "print(\"------ end ------\")"
   ]
  },
  {
   "cell_type": "code",
   "execution_count": 21,
   "metadata": {},
   "outputs": [
    {
     "name": "stdout",
     "output_type": "stream",
     "text": [
      "x is less or equal to 50\n",
      "------ end ------\n"
     ]
    }
   ],
   "source": [
    "x = randint(1, 100)\n",
    "\n",
    "if x > 50 :\n",
    "    print(\"x is greater than 50\")\n",
    "else :\n",
    "    print(\"x is less or equal to 50\")\n",
    "\n",
    "print(\"------ end ------\")"
   ]
  },
  {
   "cell_type": "code",
   "execution_count": 18,
   "metadata": {},
   "outputs": [
    {
     "name": "stdout",
     "output_type": "stream",
     "text": [
      "숫자를 입력하세요 ! :5\n"
     ]
    },
    {
     "data": {
      "text/plain": [
       "5"
      ]
     },
     "execution_count": 18,
     "metadata": {},
     "output_type": "execute_result"
    }
   ],
   "source": [
    "# 사용자로부터 숫자 입력받기\n",
    "int(input(\"숫자를 입력하세요 ! :\"))"
   ]
  },
  {
   "cell_type": "code",
   "execution_count": 14,
   "metadata": {},
   "outputs": [
    {
     "name": "stdout",
     "output_type": "stream",
     "text": [
      "숫자를 입력하세요 ! : 4\n",
      "입력한 숫자는 짝수입니다.\n"
     ]
    }
   ],
   "source": [
    "# 사용자로 부터 숫자를 입력받아 홀수인지 짝수인지 구분하기\n",
    "var01 = int(input(\"숫자를 입력하세요 ! : \"))\n",
    "\n",
    "if var01 % 2 == 0 :\n",
    "    print(\"입력한 숫자는 짝수입니다.\")\n",
    "else :\n",
    "    print(\"입력한 숫자는 홀수입니다.\")"
   ]
  },
  {
   "cell_type": "code",
   "execution_count": 49,
   "metadata": {},
   "outputs": [
    {
     "name": "stdout",
     "output_type": "stream",
     "text": [
      "학점을 입력하세요 ! : 77\n",
      "당신의 학점은 C입니다.\n"
     ]
    }
   ],
   "source": [
    "# 사용자로 부터 점수를 입력받아 학점 계산하기\n",
    "var01 = int(input(\"학점을 입력하세요 ! : \"))\n",
    "\n",
    "if var01 >= 90 :\n",
    "    print(\"당신의 학점은 A입니다.\")\n",
    "elif var01 >= 80 :\n",
    "    print(\"당신의 학점은 B입니다.\")\n",
    "elif var01 >= 70 :\n",
    "    print(\"당신의 학점은 C입니다.\")\n",
    "elif var01 >= 60 :\n",
    "    print(\"당신의 학점은 D입니다.\")\n",
    "elif var01 < 60 :\n",
    "    print(\"당신의 학점은 F입니다.\")"
   ]
  },
  {
   "cell_type": "code",
   "execution_count": 54,
   "metadata": {},
   "outputs": [
    {
     "name": "stdout",
     "output_type": "stream",
     "text": [
      "숫자를 입력하세요 !: 25\n",
      "625.0\n"
     ]
    }
   ],
   "source": [
    "# 사용자로 부터 숫자를 입력 받아 5의 배수이면 제곱근을 구하고 그렇지 않으면 원래수 출력하기\n",
    "var01 = int(input(\"숫자를 입력하세요 !: \"))\n",
    "import math\n",
    "\n",
    "if var01 % 5 == 0 :\n",
    "    print(math.pow(var01, 2))\n",
    "else :\n",
    "    print(var01)\n"
   ]
  },
  {
   "cell_type": "code",
   "execution_count": 56,
   "metadata": {},
   "outputs": [
    {
     "name": "stdout",
     "output_type": "stream",
     "text": [
      "신용카드로 택시 타기\n",
      "---- End ----\n"
     ]
    }
   ],
   "source": [
    "# list의 내용을 if문으로 확인하기\n",
    "\n",
    "pocket = ['paper', 'smartphone']\n",
    "card = 1\n",
    "\n",
    "if 'money' in pocket :\n",
    "    print(\"현금으로 택시 타기\")\n",
    "elif card :\n",
    "    print(\"신용카드로 택시 타기\")\n",
    "else :\n",
    "    print(\"튼튼한 다리를 사용!\")\n",
    "    \n",
    "print('---- End ----')"
   ]
  },
  {
   "cell_type": "code",
   "execution_count": null,
   "metadata": {},
   "outputs": [],
   "source": []
  }
 ],
 "metadata": {
  "kernelspec": {
   "display_name": "Python 3",
   "language": "python",
   "name": "python3"
  },
  "language_info": {
   "codemirror_mode": {
    "name": "ipython",
    "version": 3
   },
   "file_extension": ".py",
   "mimetype": "text/x-python",
   "name": "python",
   "nbconvert_exporter": "python",
   "pygments_lexer": "ipython3",
   "version": "3.8.5"
  }
 },
 "nbformat": 4,
 "nbformat_minor": 4
}
